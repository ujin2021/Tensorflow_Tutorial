{
  "nbformat": 4,
  "nbformat_minor": 0,
  "metadata": {
    "colab": {
      "name": "model_tips.ipynb",
      "provenance": [],
      "collapsed_sections": [],
      "authorship_tag": "ABX9TyPCthBJWT7M5oK54TCDba9s",
      "include_colab_link": true
    },
    "kernelspec": {
      "name": "python3",
      "display_name": "Python 3"
    }
  },
  "cells": [
    {
      "cell_type": "markdown",
      "metadata": {
        "id": "view-in-github",
        "colab_type": "text"
      },
      "source": [
        "<a href=\"https://colab.research.google.com/github/ujin2021/tensorflow-Tutorial/blob/master/model_tips.ipynb\" target=\"_parent\"><img src=\"https://colab.research.google.com/assets/colab-badge.svg\" alt=\"Open In Colab\"/></a>"
      ]
    },
    {
      "cell_type": "markdown",
      "metadata": {
        "id": "RdPS5yuSGoIP"
      },
      "source": [
        "### 학습이 잘 되는 모델\n",
        "* 사용할 레이어\n",
        "  * tf.keras.layers.BatchNormaliztion()\n",
        "  * tf.keras.layers.Activation('swish')"
      ]
    },
    {
      "cell_type": "code",
      "metadata": {
        "id": "isalV3OJGkvB"
      },
      "source": [
        "# 라이브러리 사용\n",
        "import tensorflow as tf\n",
        "import pandas as pd"
      ],
      "execution_count": 21,
      "outputs": []
    },
    {
      "cell_type": "markdown",
      "metadata": {
        "id": "NaJhJhvgJQPE"
      },
      "source": [
        "### Boston 집값 예측"
      ]
    },
    {
      "cell_type": "code",
      "metadata": {
        "id": "6r48cbKiG3xK",
        "outputId": "f33e9cb5-98de-48e4-b51e-75d07f605362",
        "colab": {
          "base_uri": "https://localhost:8080/"
        }
      },
      "source": [
        "# 1. 과거의 data 준비\n",
        "path = 'https://raw.githubusercontent.com/blackdew/tensorflow1/master/csv/boston.csv'\n",
        "boston = pd.read_csv(path)\n",
        "\n",
        "# 종속변수, 독립변수\n",
        "idp = boston[['crim', 'zn', 'indus', 'chas', 'nox', \n",
        "            'rm', 'age', 'dis', 'rad', 'tax',\n",
        "            'ptratio', 'b', 'lstat']]\n",
        "dp = boston[['medv']]\n",
        "print(idp.shape, dp.shape)"
      ],
      "execution_count": 16,
      "outputs": [
        {
          "output_type": "stream",
          "text": [
            "(506, 13) (506, 1)\n"
          ],
          "name": "stdout"
        }
      ]
    },
    {
      "cell_type": "code",
      "metadata": {
        "id": "YpyJvwPfHw0X",
        "outputId": "d79ae766-aea2-4e76-9d8f-3c04d41bb4fa",
        "colab": {
          "base_uri": "https://localhost:8080/"
        }
      },
      "source": [
        "# # 2. 모델의 구조를 만든다(기존의 방법)\n",
        "# X = tf.keras.layers.Input(shape=[13])\n",
        "# # 각 node가 8개인 hidden layer 3개\n",
        "# H = tf.keras.layers.Dense(8, activation='swish')(X)\n",
        "# H = tf.keras.layers.Dense(8, activation='swish')(H)\n",
        "# H = tf.keras.layers.Dense(8, activation='swish')(H)\n",
        "# Y = tf.keras.layers.Dense(1)(H)\n",
        "# model = tf.keras.models.Model(X, Y)\n",
        "# model.compile(loss='mse')\n",
        "# model.summary()"
      ],
      "execution_count": 4,
      "outputs": [
        {
          "output_type": "stream",
          "text": [
            "Model: \"functional_3\"\n",
            "_________________________________________________________________\n",
            "Layer (type)                 Output Shape              Param #   \n",
            "=================================================================\n",
            "input_2 (InputLayer)         [(None, 13)]              0         \n",
            "_________________________________________________________________\n",
            "dense_4 (Dense)              (None, 8)                 112       \n",
            "_________________________________________________________________\n",
            "dense_5 (Dense)              (None, 8)                 72        \n",
            "_________________________________________________________________\n",
            "dense_6 (Dense)              (None, 8)                 72        \n",
            "_________________________________________________________________\n",
            "dense_7 (Dense)              (None, 1)                 9         \n",
            "=================================================================\n",
            "Total params: 265\n",
            "Trainable params: 265\n",
            "Non-trainable params: 0\n",
            "_________________________________________________________________\n"
          ],
          "name": "stdout"
        }
      ]
    },
    {
      "cell_type": "code",
      "metadata": {
        "id": "XHfVPqf8IgrY",
        "outputId": "1d76afaa-1606-46e6-addd-6a263851713e",
        "colab": {
          "base_uri": "https://localhost:8080/"
        }
      },
      "source": [
        "# 2. 모델의 구조를 만든다\n",
        "X = tf.keras.layers.Input(shape=[13])\n",
        "\n",
        "# 위의 H = tf.keras.layers.Dense(8, activation='swish')(H) 를 분리, 그사이에 Batch 넣음\n",
        "H = tf.keras.layers.Dense(8)(X)\n",
        "H = tf.keras.layers.BatchNormalization()(H) # 사이에 넣는게 효과가 있다\n",
        "H = tf.keras.layers.Activation('swish')(H)\n",
        "H = tf.keras.layers.Dense(8)(H)\n",
        "H = tf.keras.layers.BatchNormalization()(H)\n",
        "H = tf.keras.layers.Activation('swish')(H)\n",
        "H = tf.keras.layers.Dense(8)(H)\n",
        "H = tf.keras.layers.BatchNormalization()(H)\n",
        "H = tf.keras.layers.Activation('swish')(H)\n",
        "\n",
        "Y = tf.keras.layers.Dense(1)(H)\n",
        "model = tf.keras.models.Model(X, Y)\n",
        "model.compile(loss='mse')\n",
        "model.summary()"
      ],
      "execution_count": 17,
      "outputs": [
        {
          "output_type": "stream",
          "text": [
            "Model: \"functional_11\"\n",
            "_________________________________________________________________\n",
            "Layer (type)                 Output Shape              Param #   \n",
            "=================================================================\n",
            "input_6 (InputLayer)         [(None, 13)]              0         \n",
            "_________________________________________________________________\n",
            "dense_20 (Dense)             (None, 8)                 112       \n",
            "_________________________________________________________________\n",
            "batch_normalization_9 (Batch (None, 8)                 32        \n",
            "_________________________________________________________________\n",
            "activation_9 (Activation)    (None, 8)                 0         \n",
            "_________________________________________________________________\n",
            "dense_21 (Dense)             (None, 8)                 72        \n",
            "_________________________________________________________________\n",
            "batch_normalization_10 (Batc (None, 8)                 32        \n",
            "_________________________________________________________________\n",
            "activation_10 (Activation)   (None, 8)                 0         \n",
            "_________________________________________________________________\n",
            "dense_22 (Dense)             (None, 8)                 72        \n",
            "_________________________________________________________________\n",
            "batch_normalization_11 (Batc (None, 8)                 32        \n",
            "_________________________________________________________________\n",
            "activation_11 (Activation)   (None, 8)                 0         \n",
            "_________________________________________________________________\n",
            "dense_23 (Dense)             (None, 1)                 9         \n",
            "=================================================================\n",
            "Total params: 361\n",
            "Trainable params: 313\n",
            "Non-trainable params: 48\n",
            "_________________________________________________________________\n"
          ],
          "name": "stdout"
        }
      ]
    },
    {
      "cell_type": "code",
      "metadata": {
        "id": "HhzW9L27IHjB",
        "outputId": "29206554-4c40-4e5d-c70b-21804dedbaa7",
        "colab": {
          "base_uri": "https://localhost:8080/"
        }
      },
      "source": [
        "# 3. data로 model 학습하기\n",
        "model.fit(idp, dp, epochs=1000, verbose=0)\n",
        "model.fit(idp, dp, epochs=10)\n",
        "# 그러나 loss가 떨어지는 양이 크지 않다. -> 어떻게 해결?"
      ],
      "execution_count": 18,
      "outputs": [
        {
          "output_type": "stream",
          "text": [
            "Epoch 1/10\n",
            "16/16 [==============================] - 0s 2ms/step - loss: 8.6445\n",
            "Epoch 2/10\n",
            "16/16 [==============================] - 0s 2ms/step - loss: 12.4512\n",
            "Epoch 3/10\n",
            "16/16 [==============================] - 0s 2ms/step - loss: 11.6053\n",
            "Epoch 4/10\n",
            "16/16 [==============================] - 0s 2ms/step - loss: 10.9332\n",
            "Epoch 5/10\n",
            "16/16 [==============================] - 0s 2ms/step - loss: 13.6467\n",
            "Epoch 6/10\n",
            "16/16 [==============================] - 0s 2ms/step - loss: 12.8255\n",
            "Epoch 7/10\n",
            "16/16 [==============================] - 0s 2ms/step - loss: 10.7326\n",
            "Epoch 8/10\n",
            "16/16 [==============================] - 0s 2ms/step - loss: 11.1759\n",
            "Epoch 9/10\n",
            "16/16 [==============================] - 0s 2ms/step - loss: 10.1482\n",
            "Epoch 10/10\n",
            "16/16 [==============================] - 0s 2ms/step - loss: 13.9518\n"
          ],
          "name": "stdout"
        },
        {
          "output_type": "execute_result",
          "data": {
            "text/plain": [
              "<tensorflow.python.keras.callbacks.History at 0x7faad23b5128>"
            ]
          },
          "metadata": {
            "tags": []
          },
          "execution_count": 18
        }
      ]
    },
    {
      "cell_type": "markdown",
      "metadata": {
        "id": "44UqQ6GfJWPs"
      },
      "source": [
        "### iris 품종 예측"
      ]
    },
    {
      "cell_type": "code",
      "metadata": {
        "id": "66LEGNXuIPCS",
        "outputId": "e3be79c6-0529-46ef-9aa6-248489382de9",
        "colab": {
          "base_uri": "https://localhost:8080/"
        }
      },
      "source": [
        "# 1. 과거의 데이터 준비\n",
        "path = 'https://raw.githubusercontent.com/blackdew/tensorflow1/master/csv/iris.csv'\n",
        "iris = pd.read_csv(path)\n",
        "\n",
        "# one hot encoding\n",
        "iris = pd.get_dummies(iris)\n",
        "\n",
        "# 종속변수, 독립변수\n",
        "iris_idp = iris[['꽃잎길이', '꽃잎폭', '꽃받침길이', '꽃받침폭']]\n",
        "iris_dp = iris[['품종_setosa', '품종_versicolor', '품종_virginica']]\n",
        "print(iris_idp.shape, iris_dp.shape)"
      ],
      "execution_count": 19,
      "outputs": [
        {
          "output_type": "stream",
          "text": [
            "(150, 4) (150, 3)\n"
          ],
          "name": "stdout"
        }
      ]
    },
    {
      "cell_type": "code",
      "metadata": {
        "id": "ZHwJ_TNHJuE2",
        "outputId": "fd2d785e-092c-4161-8ec5-eb080d7ecb37",
        "colab": {
          "base_uri": "https://localhost:8080/"
        }
      },
      "source": [
        "# 2. 모델의 구조를 만든다\n",
        "X = tf.keras.layers.Input(shape=[4])\n",
        "\n",
        "H = tf.keras.layers.Dense(8)(X)\n",
        "H = tf.keras.layers.BatchNormalization()(H)\n",
        "H = tf.keras.layers.Activation('swish')(H)\n",
        "\n",
        "H = tf.keras.layers.Dense(8)(H)\n",
        "H = tf.keras.layers.BatchNormalization()(H)\n",
        "H = tf.keras.layers.Activation('swish')(H)\n",
        "\n",
        "H = tf.keras.layers.Dense(8)(H)\n",
        "H = tf.keras.layers.BatchNormalization()(H)\n",
        "H = tf.keras.layers.Activation('swish')(H)\n",
        "\n",
        "Y = tf.keras.layers.Dense(3, activation='softmax')(H)\n",
        "model = tf.keras.models.Model(X, Y)\n",
        "model.compile(loss='categorical_crossentropy', metrics='accuracy')\n",
        "model.summary()"
      ],
      "execution_count": 23,
      "outputs": [
        {
          "output_type": "stream",
          "text": [
            "Model: \"functional_13\"\n",
            "_________________________________________________________________\n",
            "Layer (type)                 Output Shape              Param #   \n",
            "=================================================================\n",
            "input_9 (InputLayer)         [(None, 4)]               0         \n",
            "_________________________________________________________________\n",
            "dense_32 (Dense)             (None, 8)                 40        \n",
            "_________________________________________________________________\n",
            "batch_normalization_18 (Batc (None, 8)                 32        \n",
            "_________________________________________________________________\n",
            "activation_18 (Activation)   (None, 8)                 0         \n",
            "_________________________________________________________________\n",
            "dense_33 (Dense)             (None, 8)                 72        \n",
            "_________________________________________________________________\n",
            "batch_normalization_19 (Batc (None, 8)                 32        \n",
            "_________________________________________________________________\n",
            "activation_19 (Activation)   (None, 8)                 0         \n",
            "_________________________________________________________________\n",
            "dense_34 (Dense)             (None, 8)                 72        \n",
            "_________________________________________________________________\n",
            "batch_normalization_20 (Batc (None, 8)                 32        \n",
            "_________________________________________________________________\n",
            "activation_20 (Activation)   (None, 8)                 0         \n",
            "_________________________________________________________________\n",
            "dense_35 (Dense)             (None, 3)                 27        \n",
            "=================================================================\n",
            "Total params: 307\n",
            "Trainable params: 259\n",
            "Non-trainable params: 48\n",
            "_________________________________________________________________\n"
          ],
          "name": "stdout"
        }
      ]
    },
    {
      "cell_type": "code",
      "metadata": {
        "id": "DluvR8lfKzJf",
        "outputId": "a899bb68-ac4c-4cc0-f1c6-74a23fa03b1d",
        "colab": {
          "base_uri": "https://localhost:8080/"
        }
      },
      "source": [
        "# 3. 데이터로 모델을 학습\n",
        "model.fit(iris_idp, iris_dp, epochs=1000, verbose=0)\n",
        "model.fit(iris_idp, iris_dp, epochs=10)"
      ],
      "execution_count": 29,
      "outputs": [
        {
          "output_type": "stream",
          "text": [
            "Epoch 1/10\n",
            "5/5 [==============================] - 0s 2ms/step - loss: 0.0327 - accuracy: 0.9933\n",
            "Epoch 2/10\n",
            "5/5 [==============================] - 0s 2ms/step - loss: 0.0247 - accuracy: 0.9933\n",
            "Epoch 3/10\n",
            "5/5 [==============================] - 0s 3ms/step - loss: 0.0415 - accuracy: 0.9933\n",
            "Epoch 4/10\n",
            "5/5 [==============================] - 0s 2ms/step - loss: 0.0059 - accuracy: 1.0000\n",
            "Epoch 5/10\n",
            "5/5 [==============================] - 0s 2ms/step - loss: 0.0291 - accuracy: 0.9867\n",
            "Epoch 6/10\n",
            "5/5 [==============================] - 0s 2ms/step - loss: 0.0079 - accuracy: 1.0000\n",
            "Epoch 7/10\n",
            "5/5 [==============================] - 0s 2ms/step - loss: 0.0326 - accuracy: 0.9933\n",
            "Epoch 8/10\n",
            "5/5 [==============================] - 0s 3ms/step - loss: 0.0142 - accuracy: 0.9933\n",
            "Epoch 9/10\n",
            "5/5 [==============================] - 0s 3ms/step - loss: 0.0648 - accuracy: 0.9667\n",
            "Epoch 10/10\n",
            "5/5 [==============================] - 0s 2ms/step - loss: 0.0192 - accuracy: 0.9933\n"
          ],
          "name": "stdout"
        },
        {
          "output_type": "execute_result",
          "data": {
            "text/plain": [
              "<tensorflow.python.keras.callbacks.History at 0x7faac6ec71d0>"
            ]
          },
          "metadata": {
            "tags": []
          },
          "execution_count": 29
        }
      ]
    }
  ]
}