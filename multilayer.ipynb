{
  "nbformat": 4,
  "nbformat_minor": 0,
  "metadata": {
    "colab": {
      "name": "multilayer.ipynb",
      "provenance": [],
      "collapsed_sections": [],
      "authorship_tag": "ABX9TyOjZ4C1RLbYn6pw0rTDVKc1",
      "include_colab_link": true
    },
    "kernelspec": {
      "name": "python3",
      "display_name": "Python 3"
    }
  },
  "cells": [
    {
      "cell_type": "markdown",
      "metadata": {
        "id": "view-in-github",
        "colab_type": "text"
      },
      "source": [
        "<a href=\"https://colab.research.google.com/github/ujin2021/tensorflow-Tutorial/blob/master/multilayer.ipynb\" target=\"_parent\"><img src=\"https://colab.research.google.com/assets/colab-badge.svg\" alt=\"Open In Colab\"/></a>"
      ]
    },
    {
      "cell_type": "code",
      "metadata": {
        "id": "RLa60Gl484Xe"
      },
      "source": [
        "# 라이브러리 사용\n",
        "import tensorflow as tf\n",
        "import pandas as pd"
      ],
      "execution_count": 2,
      "outputs": []
    },
    {
      "cell_type": "markdown",
      "metadata": {
        "id": "VJoFTxMk9AQp"
      },
      "source": [
        "### 보스턴 집값 예측"
      ]
    },
    {
      "cell_type": "code",
      "metadata": {
        "id": "u7ukRTRE9Cfk",
        "outputId": "c836ad0f-8425-4d2c-bf09-fb4e249491db",
        "colab": {
          "base_uri": "https://localhost:8080/"
        }
      },
      "source": [
        "# 1. 과거의 데이터 준비\n",
        "path = 'https://raw.githubusercontent.com/blackdew/tensorflow1/master/csv/boston.csv'\n",
        "boston = pd.read_csv(path)\n",
        "\n",
        "# 종속변수, 독립변수\n",
        "idp = boston[['crim', 'zn', 'indus', 'chas', 'nox', \n",
        "            'rm', 'age', 'dis', 'rad', 'tax',\n",
        "            'ptratio', 'b', 'lstat']]\n",
        "dp = boston[['medv']]\n",
        "print(idp.shape, dp.shape)"
      ],
      "execution_count": 3,
      "outputs": [
        {
          "output_type": "stream",
          "text": [
            "(506, 13) (506, 1)\n"
          ],
          "name": "stdout"
        }
      ]
    },
    {
      "cell_type": "code",
      "metadata": {
        "id": "thQ1pHAH9WJH"
      },
      "source": [
        "# 2. 모델의 구조 만들기\n",
        "X = tf.keras.layers.Input(shape = [13])\n",
        "# Y = tf.keras.layers.Dense(1)(X) 이전 방법\n",
        "H = tf.keras.layers.Dense(10, activation = 'swish')(X) # 10개의 node, 활성화함수 : swish\n",
        "Y = tf.keras.layers.Dense(1)(H) # output은 X가 아닌 H를 받는다\n",
        "model = tf.keras.models.Model(X, Y)\n",
        "model.compile(loss='mse')"
      ],
      "execution_count": 7,
      "outputs": []
    },
    {
      "cell_type": "code",
      "metadata": {
        "id": "jRG-Y4mb-jXM",
        "outputId": "84561932-b641-4008-e4a9-163183f0dd3d",
        "colab": {
          "base_uri": "https://localhost:8080/"
        }
      },
      "source": [
        "model.summary()"
      ],
      "execution_count": 16,
      "outputs": [
        {
          "output_type": "stream",
          "text": [
            "Model: \"functional_5\"\n",
            "_________________________________________________________________\n",
            "Layer (type)                 Output Shape              Param #   \n",
            "=================================================================\n",
            "input_3 (InputLayer)         [(None, 13)]              0         \n",
            "_________________________________________________________________\n",
            "dense_2 (Dense)              (None, 10)                140       \n",
            "_________________________________________________________________\n",
            "dense_3 (Dense)              (None, 1)                 11        \n",
            "=================================================================\n",
            "Total params: 151\n",
            "Trainable params: 151\n",
            "Non-trainable params: 0\n",
            "_________________________________________________________________\n"
          ],
          "name": "stdout"
        }
      ]
    },
    {
      "cell_type": "markdown",
      "metadata": {
        "id": "yh5UjFV6-8AI"
      },
      "source": [
        "```\n",
        "_________________________________________________________________\n",
        "Layer (type)                 Output Shape              Param #   \n",
        "=================================================================\n",
        "input_3 (InputLayer)         [(None, 13)]              0         \n",
        "_________________________________________________________________\n",
        "dense_2 (Dense)              (None, 10)                140       \n",
        "_________________________________________________________________\n",
        "dense_3 (Dense)              (None, 1)                 11        \n",
        "=================================================================\n",
        "```\n",
        "* 13개(X)의 입력으로 10개(H)의 출력을 만든다\n",
        "* 10개의 입력으로 1개(Y)의 출력을 만든다\n",
        "* Param : 가중치\n",
        "* Param이 14(13개의 input, 1개의 bias) * 10 (hidden layer node가 10개)\n",
        "* Param이 11(10개의 input, 1개의 bias)"
      ]
    },
    {
      "cell_type": "code",
      "metadata": {
        "id": "p-vzp2ut-GKI",
        "outputId": "960eaecc-0338-44b4-b3dc-1b436f823630",
        "colab": {
          "base_uri": "https://localhost:8080/"
        }
      },
      "source": [
        "model.fit(idp, dp, epochs = 1000, verbose=0)\n",
        "model.fit(idp, dp, epochs = 10)"
      ],
      "execution_count": 15,
      "outputs": [
        {
          "output_type": "stream",
          "text": [
            "Epoch 1/10\n",
            "16/16 [==============================] - 0s 1ms/step - loss: 11.0314\n",
            "Epoch 2/10\n",
            "16/16 [==============================] - 0s 964us/step - loss: 10.5742\n",
            "Epoch 3/10\n",
            "16/16 [==============================] - 0s 1ms/step - loss: 10.1709\n",
            "Epoch 4/10\n",
            "16/16 [==============================] - 0s 952us/step - loss: 11.0448\n",
            "Epoch 5/10\n",
            "16/16 [==============================] - 0s 959us/step - loss: 9.6625\n",
            "Epoch 6/10\n",
            "16/16 [==============================] - 0s 1ms/step - loss: 11.6272\n",
            "Epoch 7/10\n",
            "16/16 [==============================] - 0s 1ms/step - loss: 10.6917\n",
            "Epoch 8/10\n",
            "16/16 [==============================] - 0s 1ms/step - loss: 10.5547\n",
            "Epoch 9/10\n",
            "16/16 [==============================] - 0s 982us/step - loss: 10.4815\n",
            "Epoch 10/10\n",
            "16/16 [==============================] - 0s 944us/step - loss: 11.4073\n"
          ],
          "name": "stdout"
        },
        {
          "output_type": "execute_result",
          "data": {
            "text/plain": [
              "<tensorflow.python.keras.callbacks.History at 0x7f92e9042048>"
            ]
          },
          "metadata": {
            "tags": []
          },
          "execution_count": 15
        }
      ]
    },
    {
      "cell_type": "code",
      "metadata": {
        "id": "V6imaUz3-K2f",
        "outputId": "8db5d8de-14e6-488d-a4f1-b5f425463c6b",
        "colab": {
          "base_uri": "https://localhost:8080/"
        }
      },
      "source": [
        "# 4. model 이용하기\n",
        "print(model.predict(idp[:5]))\n",
        "print(dp[:5])"
      ],
      "execution_count": 17,
      "outputs": [
        {
          "output_type": "stream",
          "text": [
            "[[30.250547]\n",
            " [20.89725 ]\n",
            " [32.592636]\n",
            " [33.39221 ]\n",
            " [31.338923]]\n",
            "   medv\n",
            "0  24.0\n",
            "1  21.6\n",
            "2  34.7\n",
            "3  33.4\n",
            "4  36.2\n"
          ],
          "name": "stdout"
        }
      ]
    },
    {
      "cell_type": "markdown",
      "metadata": {
        "id": "ESs1cqVP_h-E"
      },
      "source": [
        "### 아이리스 품종분류"
      ]
    },
    {
      "cell_type": "code",
      "metadata": {
        "id": "9GXLATFV_jzO",
        "outputId": "c3adb463-218d-4b95-a01a-5a02e5afd229",
        "colab": {
          "base_uri": "https://localhost:8080/"
        }
      },
      "source": [
        "# 1. 과거의 데이터 준비\n",
        "iris_path = 'https://raw.githubusercontent.com/blackdew/tensorflow1/master/csv/iris.csv'\n",
        "iris = pd.read_csv(iris_path)\n",
        "\n",
        "# one hot encoding\n",
        "iris = pd.get_dummies(iris)\n",
        "\n",
        "# 종속변수, 독립변수\n",
        "iris_idp = iris[['꽃잎길이', '꽃잎폭', '꽃받침길이', '꽃받침폭']]\n",
        "iris_dp = iris[['품종_setosa', '품종_versicolor', '품종_virginica']]\n",
        "print(iris_idp.shape, iris_dp.shape)"
      ],
      "execution_count": 21,
      "outputs": [
        {
          "output_type": "stream",
          "text": [
            "(150, 4) (150, 3)\n"
          ],
          "name": "stdout"
        }
      ]
    },
    {
      "cell_type": "code",
      "metadata": {
        "id": "ss_f0viu__o6",
        "outputId": "3c1a55a0-c75e-44ff-9ae9-457bf6548991",
        "colab": {
          "base_uri": "https://localhost:8080/"
        }
      },
      "source": [
        "# 2. model의 구조 만들기\n",
        "X = tf.keras.layers.Input(shape=[4])\n",
        "H = tf.keras.layers.Dense(8, activation = 'swish')(X)\n",
        "H = tf.keras.layers.Dense(8, activation = 'swish')(H)\n",
        "H = tf.keras.layers.Dense(8, activation = 'swish')(H)\n",
        "Y = tf.keras.layers.Dense(3, activation = 'softmax')(H)\n",
        "\n",
        "model = tf.keras.models.Model(X, Y)\n",
        "model.compile(loss='categorical_crossentropy', metrics='accuracy')\n",
        "model.summary()"
      ],
      "execution_count": 28,
      "outputs": [
        {
          "output_type": "stream",
          "text": [
            "Model: \"functional_9\"\n",
            "_________________________________________________________________\n",
            "Layer (type)                 Output Shape              Param #   \n",
            "=================================================================\n",
            "input_6 (InputLayer)         [(None, 4)]               0         \n",
            "_________________________________________________________________\n",
            "dense_12 (Dense)             (None, 8)                 40        \n",
            "_________________________________________________________________\n",
            "dense_13 (Dense)             (None, 8)                 72        \n",
            "_________________________________________________________________\n",
            "dense_14 (Dense)             (None, 8)                 72        \n",
            "_________________________________________________________________\n",
            "dense_15 (Dense)             (None, 3)                 27        \n",
            "=================================================================\n",
            "Total params: 211\n",
            "Trainable params: 211\n",
            "Non-trainable params: 0\n",
            "_________________________________________________________________\n"
          ],
          "name": "stdout"
        }
      ]
    },
    {
      "cell_type": "code",
      "metadata": {
        "id": "IQoj5__oBxH9",
        "outputId": "94bf4f6c-13b0-4884-b722-2e37705e852a",
        "colab": {
          "base_uri": "https://localhost:8080/"
        }
      },
      "source": [
        "# 3. 데이터로 모델 FIT 시키기\n",
        "model.fit(iris_idp, iris_dp, epochs=100, verbose=0)\n",
        "model.fit(iris_idp, iris_dp, epochs=10)"
      ],
      "execution_count": 25,
      "outputs": [
        {
          "output_type": "stream",
          "text": [
            "Epoch 1/10\n",
            "5/5 [==============================] - 0s 2ms/step - loss: 0.0577 - accuracy: 0.9800\n",
            "Epoch 2/10\n",
            "5/5 [==============================] - 0s 1ms/step - loss: 0.0647 - accuracy: 0.9800\n",
            "Epoch 3/10\n",
            "5/5 [==============================] - 0s 1ms/step - loss: 0.0608 - accuracy: 0.9867\n",
            "Epoch 4/10\n",
            "5/5 [==============================] - 0s 2ms/step - loss: 0.0577 - accuracy: 0.9867\n",
            "Epoch 5/10\n",
            "5/5 [==============================] - 0s 2ms/step - loss: 0.0642 - accuracy: 0.9800\n",
            "Epoch 6/10\n",
            "5/5 [==============================] - 0s 1ms/step - loss: 0.0585 - accuracy: 0.9800\n",
            "Epoch 7/10\n",
            "5/5 [==============================] - 0s 2ms/step - loss: 0.0578 - accuracy: 0.9800\n",
            "Epoch 8/10\n",
            "5/5 [==============================] - 0s 2ms/step - loss: 0.0593 - accuracy: 0.9867\n",
            "Epoch 9/10\n",
            "5/5 [==============================] - 0s 2ms/step - loss: 0.0616 - accuracy: 0.9800\n",
            "Epoch 10/10\n",
            "5/5 [==============================] - 0s 2ms/step - loss: 0.0698 - accuracy: 0.9667\n"
          ],
          "name": "stdout"
        },
        {
          "output_type": "execute_result",
          "data": {
            "text/plain": [
              "<tensorflow.python.keras.callbacks.History at 0x7f92e7795240>"
            ]
          },
          "metadata": {
            "tags": []
          },
          "execution_count": 25
        }
      ]
    },
    {
      "cell_type": "code",
      "metadata": {
        "id": "DfRItQjnB_zy",
        "outputId": "29b1b0ea-0317-414c-f632-0c530a8d6f23",
        "colab": {
          "base_uri": "https://localhost:8080/"
        }
      },
      "source": [
        "# 4. model 이용하기\n",
        "print(model.predict(iris_idp[0:5]))\n",
        "print(iris_dp[0:5])"
      ],
      "execution_count": 27,
      "outputs": [
        {
          "output_type": "stream",
          "text": [
            "[[9.9999952e-01 4.2329557e-07 5.3968857e-13]\n",
            " [9.9999511e-01 4.8303200e-06 1.6025205e-11]\n",
            " [9.9999821e-01 1.7400570e-06 6.1508780e-12]\n",
            " [9.9999070e-01 9.3211993e-06 5.7278415e-11]\n",
            " [9.9999964e-01 3.4133052e-07 4.7603745e-13]]\n",
            "   품종_setosa  품종_versicolor  품종_virginica\n",
            "0          1              0             0\n",
            "1          1              0             0\n",
            "2          1              0             0\n",
            "3          1              0             0\n",
            "4          1              0             0\n"
          ],
          "name": "stdout"
        }
      ]
    },
    {
      "cell_type": "code",
      "metadata": {
        "id": "b5d_7fHBCG9y"
      },
      "source": [
        ""
      ],
      "execution_count": null,
      "outputs": []
    }
  ]
}