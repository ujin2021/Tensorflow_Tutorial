{
  "nbformat": 4,
  "nbformat_minor": 0,
  "metadata": {
    "colab": {
      "name": "lemonade.ipynb",
      "provenance": [],
      "collapsed_sections": [],
      "authorship_tag": "ABX9TyOlipnKcVHzywJFAgL2HB6Y",
      "include_colab_link": true
    },
    "kernelspec": {
      "name": "python3",
      "display_name": "Python 3"
    }
  },
  "cells": [
    {
      "cell_type": "markdown",
      "metadata": {
        "id": "view-in-github",
        "colab_type": "text"
      },
      "source": [
        "<a href=\"https://colab.research.google.com/github/ujin2021/tensorflow-Tutorial/blob/master/lemonade.ipynb\" target=\"_parent\"><img src=\"https://colab.research.google.com/assets/colab-badge.svg\" alt=\"Open In Colab\"/></a>"
      ]
    },
    {
      "cell_type": "markdown",
      "metadata": {
        "id": "gnxRsMZ0ezzw",
        "colab_type": "text"
      },
      "source": [
        "\n",
        "\n",
        "1.   과거의 데이터 준비하기\n",
        "> 독립변수, 종속변수를 분리하여 준비\n",
        "\n",
        "2.   모델의 구조 만들기\n",
        "> Input(shape=[n]), Dense(m) => n : 독립변수 갯수, m : 종속변수 갯수\n",
        "\n",
        "3.   데이터로 모델을 학습(FIT)\n",
        "> epochs = 학습 할 횟수\n",
        "\n",
        "4.   모델을 이용\n",
        "\n"
      ]
    },
    {
      "cell_type": "markdown",
      "metadata": {
        "id": "M8yvynKggPYn",
        "colab_type": "text"
      },
      "source": [
        "model.fit(독립, 종속, epochs=10) # 10번 반복\n",
        "결과 :\n",
        "*  n/10 : 몇번 째 학습중인지\n",
        "*  0s n ms/step : 각 학습마다 얼마의 시간이 걸렸는지\n",
        "*  (중요)loss : 학습이 얼마나 진행되었는지\n"
      ]
    },
    {
      "cell_type": "markdown",
      "metadata": {
        "id": "_BwzusyVg6LW",
        "colab_type": "text"
      },
      "source": [
        "종속변수와 예측값 비교 -> 차이^2 한결과의 평균 : loss <br>\n",
        "예측값이 종속변수와 같으면 평균이 0 <br>\n",
        "loss 가 epoch 마다 0에 가까워지는지 봐야함."
      ]
    },
    {
      "cell_type": "markdown",
      "metadata": {
        "id": "o16cIJ1JhRwZ",
        "colab_type": "text"
      },
      "source": [
        "#레모네이드 판매 예측"
      ]
    },
    {
      "cell_type": "code",
      "metadata": {
        "id": "9SfQ45GDe-N6",
        "colab_type": "code",
        "colab": {}
      },
      "source": [
        "# 라이브러리 사용\n",
        "import tensorflow as tf\n",
        "import pandas as pd"
      ],
      "execution_count": null,
      "outputs": []
    },
    {
      "cell_type": "code",
      "metadata": {
        "id": "wBPNuf8Mha6h",
        "colab_type": "code",
        "colab": {
          "base_uri": "https://localhost:8080/",
          "height": 195
        },
        "outputId": "fcce526e-1ea3-4376-965f-fb1d7858d258"
      },
      "source": [
        "# 데이터 준비\n",
        "file_path = 'https://raw.githubusercontent.com/blackdew/tensorflow1/master/csv/lemonade.csv'\n",
        "data = pd.read_csv(file_path)\n",
        "data.head()"
      ],
      "execution_count": null,
      "outputs": [
        {
          "output_type": "execute_result",
          "data": {
            "text/html": [
              "<div>\n",
              "<style scoped>\n",
              "    .dataframe tbody tr th:only-of-type {\n",
              "        vertical-align: middle;\n",
              "    }\n",
              "\n",
              "    .dataframe tbody tr th {\n",
              "        vertical-align: top;\n",
              "    }\n",
              "\n",
              "    .dataframe thead th {\n",
              "        text-align: right;\n",
              "    }\n",
              "</style>\n",
              "<table border=\"1\" class=\"dataframe\">\n",
              "  <thead>\n",
              "    <tr style=\"text-align: right;\">\n",
              "      <th></th>\n",
              "      <th>온도</th>\n",
              "      <th>판매량</th>\n",
              "    </tr>\n",
              "  </thead>\n",
              "  <tbody>\n",
              "    <tr>\n",
              "      <th>0</th>\n",
              "      <td>20</td>\n",
              "      <td>40</td>\n",
              "    </tr>\n",
              "    <tr>\n",
              "      <th>1</th>\n",
              "      <td>21</td>\n",
              "      <td>42</td>\n",
              "    </tr>\n",
              "    <tr>\n",
              "      <th>2</th>\n",
              "      <td>22</td>\n",
              "      <td>44</td>\n",
              "    </tr>\n",
              "    <tr>\n",
              "      <th>3</th>\n",
              "      <td>23</td>\n",
              "      <td>46</td>\n",
              "    </tr>\n",
              "    <tr>\n",
              "      <th>4</th>\n",
              "      <td>24</td>\n",
              "      <td>48</td>\n",
              "    </tr>\n",
              "  </tbody>\n",
              "</table>\n",
              "</div>"
            ],
            "text/plain": [
              "   온도  판매량\n",
              "0  20   40\n",
              "1  21   42\n",
              "2  22   44\n",
              "3  23   46\n",
              "4  24   48"
            ]
          },
          "metadata": {
            "tags": []
          },
          "execution_count": 4
        }
      ]
    },
    {
      "cell_type": "code",
      "metadata": {
        "id": "MWe4UHynhr0k",
        "colab_type": "code",
        "colab": {
          "base_uri": "https://localhost:8080/",
          "height": 34
        },
        "outputId": "0b8ea6c5-89ca-4cc0-dafc-9b5f3094d91d"
      },
      "source": [
        "# 종속변수, 독립변수를 나누어 주어야 함\n",
        "idp = data[['온도']]\n",
        "dp = data[['판매량']]\n",
        "print(idp.shape, dp.shape)"
      ],
      "execution_count": null,
      "outputs": [
        {
          "output_type": "stream",
          "text": [
            "(6, 1) (6, 1)\n"
          ],
          "name": "stdout"
        }
      ]
    },
    {
      "cell_type": "code",
      "metadata": {
        "id": "OAsOXTamiBIl",
        "colab_type": "code",
        "colab": {}
      },
      "source": [
        "# 모델 만들기\n",
        "X = tf.keras.layers.Input(shape=[1]) # 독립변수 column의 갯수가 1\n",
        "Y = tf.keras.layers.Dense(1)(X) # 종속변수 column의 갯수가 1\n",
        "model = tf.keras.models.Model(X, Y)\n",
        "model.compile(loss='mse')"
      ],
      "execution_count": null,
      "outputs": []
    },
    {
      "cell_type": "code",
      "metadata": {
        "id": "III181t-iU9t",
        "colab_type": "code",
        "colab": {
          "base_uri": "https://localhost:8080/",
          "height": 386
        },
        "outputId": "d95dda43-263c-4e41-f84a-15b5684cad84"
      },
      "source": [
        "# 모델 학습시키기\n",
        "model.fit(idp, dp, epochs=10) # loss 값이 0에 가까워져야 함\n",
        "# model.fit(idp, dp, epochs=10, verbose=0) verbose : 학습 시킬 때 화면에 출력하지 않도록"
      ],
      "execution_count": null,
      "outputs": [
        {
          "output_type": "stream",
          "text": [
            "Epoch 1/10\n",
            "1/1 [==============================] - 0s 1ms/step - loss: 1.3894e-04\n",
            "Epoch 2/10\n",
            "1/1 [==============================] - 0s 2ms/step - loss: 1.3890e-04\n",
            "Epoch 3/10\n",
            "1/1 [==============================] - 0s 2ms/step - loss: 1.3885e-04\n",
            "Epoch 4/10\n",
            "1/1 [==============================] - 0s 2ms/step - loss: 1.3873e-04\n",
            "Epoch 5/10\n",
            "1/1 [==============================] - 0s 2ms/step - loss: 1.3872e-04\n",
            "Epoch 6/10\n",
            "1/1 [==============================] - 0s 1ms/step - loss: 1.3873e-04\n",
            "Epoch 7/10\n",
            "1/1 [==============================] - 0s 1ms/step - loss: 1.3863e-04\n",
            "Epoch 8/10\n",
            "1/1 [==============================] - 0s 3ms/step - loss: 1.3864e-04\n",
            "Epoch 9/10\n",
            "1/1 [==============================] - 0s 1ms/step - loss: 1.3876e-04\n",
            "Epoch 10/10\n",
            "1/1 [==============================] - 0s 2ms/step - loss: 1.3890e-04\n"
          ],
          "name": "stdout"
        },
        {
          "output_type": "execute_result",
          "data": {
            "text/plain": [
              "<tensorflow.python.keras.callbacks.History at 0x7f7abc46fba8>"
            ]
          },
          "metadata": {
            "tags": []
          },
          "execution_count": 11
        }
      ]
    },
    {
      "cell_type": "code",
      "metadata": {
        "id": "Y9WJ2PRWifhP",
        "colab_type": "code",
        "colab": {
          "base_uri": "https://localhost:8080/",
          "height": 122
        },
        "outputId": "8bb93547-95ea-4472-b3ab-5855b42a831c"
      },
      "source": [
        "# 모델 이용\n",
        "model.predict(idp)"
      ],
      "execution_count": null,
      "outputs": [
        {
          "output_type": "execute_result",
          "data": {
            "text/plain": [
              "array([[40.010723],\n",
              "       [42.01114 ],\n",
              "       [44.01156 ],\n",
              "       [46.011974],\n",
              "       [48.01239 ],\n",
              "       [50.012806]], dtype=float32)"
            ]
          },
          "metadata": {
            "tags": []
          },
          "execution_count": 13
        }
      ]
    },
    {
      "cell_type": "code",
      "metadata": {
        "id": "g7ln9SIJjFJ8",
        "colab_type": "code",
        "colab": {
          "base_uri": "https://localhost:8080/",
          "height": 34
        },
        "outputId": "6191053a-2162-4260-c92a-e68fe944ea9d"
      },
      "source": [
        "model.predict([[15]]) # 15도 일때 판매량 예측(30이 나와야함)"
      ],
      "execution_count": null,
      "outputs": [
        {
          "output_type": "execute_result",
          "data": {
            "text/plain": [
              "array([[30.008642]], dtype=float32)"
            ]
          },
          "metadata": {
            "tags": []
          },
          "execution_count": 15
        }
      ]
    },
    {
      "cell_type": "code",
      "metadata": {
        "id": "WRdJJO9SjOKq",
        "colab_type": "code",
        "colab": {}
      },
      "source": [
        ""
      ],
      "execution_count": null,
      "outputs": []
    }
  ]
}